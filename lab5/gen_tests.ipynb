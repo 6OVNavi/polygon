{
 "cells": [
  {
   "cell_type": "code",
   "execution_count": 3,
   "id": "f5437678-af8e-4829-99ee-b2f4c100bdfa",
   "metadata": {},
   "outputs": [],
   "source": [
    "import random"
   ]
  },
  {
   "cell_type": "code",
   "execution_count": 6,
   "id": "4a0c1952-5a7c-4a47-97cf-0ff2dd6f125a",
   "metadata": {},
   "outputs": [
    {
     "ename": "KeyboardInterrupt",
     "evalue": "",
     "output_type": "error",
     "traceback": [
      "\u001b[1;31m---------------------------------------------------------------------------\u001b[0m",
      "\u001b[1;31mKeyboardInterrupt\u001b[0m                         Traceback (most recent call last)",
      "Cell \u001b[1;32mIn[6], line 8\u001b[0m\n\u001b[0;32m      6\u001b[0m rand_arr \u001b[38;5;241m=\u001b[39m [random\u001b[38;5;241m.\u001b[39mrandint(\u001b[38;5;241m-\u001b[39m\u001b[38;5;241m65536\u001b[39m, \u001b[38;5;241m65536\u001b[39m) \u001b[38;5;28;01mfor\u001b[39;00m j \u001b[38;5;129;01min\u001b[39;00m \u001b[38;5;28mrange\u001b[39m(i)]\n\u001b[0;32m      7\u001b[0m \u001b[38;5;28;01mwith\u001b[39;00m \u001b[38;5;28mopen\u001b[39m(\u001b[38;5;124mf\u001b[39m\u001b[38;5;124m'\u001b[39m\u001b[38;5;124mtest\u001b[39m\u001b[38;5;132;01m{\u001b[39;00mid_\u001b[38;5;132;01m}\u001b[39;00m\u001b[38;5;124m.txt\u001b[39m\u001b[38;5;124m'\u001b[39m, \u001b[38;5;124m'\u001b[39m\u001b[38;5;124mw\u001b[39m\u001b[38;5;124m'\u001b[39m) \u001b[38;5;28;01mas\u001b[39;00m f:\n\u001b[1;32m----> 8\u001b[0m     f\u001b[38;5;241m.\u001b[39mwrite(\u001b[38;5;124m'\u001b[39m\u001b[38;5;124m \u001b[39m\u001b[38;5;124m'\u001b[39m\u001b[38;5;241m.\u001b[39mjoin(\u001b[38;5;28mlist\u001b[39m(\u001b[38;5;28mmap\u001b[39m(\u001b[38;5;28;01mlambda\u001b[39;00m x: \u001b[38;5;28mstr\u001b[39m(x), rand_arr))))\n",
      "Cell \u001b[1;32mIn[6], line 8\u001b[0m, in \u001b[0;36m<lambda>\u001b[1;34m(x)\u001b[0m\n\u001b[0;32m      6\u001b[0m rand_arr \u001b[38;5;241m=\u001b[39m [random\u001b[38;5;241m.\u001b[39mrandint(\u001b[38;5;241m-\u001b[39m\u001b[38;5;241m65536\u001b[39m, \u001b[38;5;241m65536\u001b[39m) \u001b[38;5;28;01mfor\u001b[39;00m j \u001b[38;5;129;01min\u001b[39;00m \u001b[38;5;28mrange\u001b[39m(i)]\n\u001b[0;32m      7\u001b[0m \u001b[38;5;28;01mwith\u001b[39;00m \u001b[38;5;28mopen\u001b[39m(\u001b[38;5;124mf\u001b[39m\u001b[38;5;124m'\u001b[39m\u001b[38;5;124mtest\u001b[39m\u001b[38;5;132;01m{\u001b[39;00mid_\u001b[38;5;132;01m}\u001b[39;00m\u001b[38;5;124m.txt\u001b[39m\u001b[38;5;124m'\u001b[39m, \u001b[38;5;124m'\u001b[39m\u001b[38;5;124mw\u001b[39m\u001b[38;5;124m'\u001b[39m) \u001b[38;5;28;01mas\u001b[39;00m f:\n\u001b[1;32m----> 8\u001b[0m     f\u001b[38;5;241m.\u001b[39mwrite(\u001b[38;5;124m'\u001b[39m\u001b[38;5;124m \u001b[39m\u001b[38;5;124m'\u001b[39m\u001b[38;5;241m.\u001b[39mjoin(\u001b[38;5;28mlist\u001b[39m(\u001b[38;5;28mmap\u001b[39m(\u001b[38;5;28;01mlambda\u001b[39;00m x: \u001b[38;5;28mstr\u001b[39m(x), rand_arr))))\n",
      "\u001b[1;31mKeyboardInterrupt\u001b[0m: "
     ]
    }
   ],
   "source": [
    "N_tests = int(1e6)\n",
    "id_ = 0\n",
    "\n",
    "for i in range(10, N_tests, 1000):\n",
    "    id_ += 1\n",
    "    rand_arr = [random.randint(-65536, 65536) for j in range(i)]\n",
    "    with open(f'test{id_}.txt', 'w') as f:\n",
    "        f.write(' '.join(list(map(lambda x: str(x), rand_arr))))"
   ]
  },
  {
   "cell_type": "code",
   "execution_count": 8,
   "id": "6e4393e7-eef2-404e-8469-b2bc20f1f62e",
   "metadata": {},
   "outputs": [
    {
     "name": "stdout",
     "output_type": "stream",
     "text": [
      "\"test1.txt\", \"test2.txt\", \"test3.txt\", \"test4.txt\", \"test5.txt\", \"test6.txt\", \"test7.txt\", \"test8.txt\", \"test9.txt\", \"test10.txt\", \"test11.txt\", \"test12.txt\", \"test13.txt\", \"test14.txt\", \"test15.txt\", \"test16.txt\", \"test17.txt\", \"test18.txt\", \"test19.txt\", \"test20.txt\", \"test21.txt\", \"test22.txt\", \"test23.txt\", \"test24.txt\", \"test25.txt\", \"test26.txt\", \"test27.txt\", \"test28.txt\", \"test29.txt\", \"test30.txt\", \"test31.txt\", \"test32.txt\", \"test33.txt\", \"test34.txt\", \"test35.txt\", \"test36.txt\", \"test37.txt\", \"test38.txt\", \"test39.txt\", \"test40.txt\", \"test41.txt\", \"test42.txt\", \"test43.txt\", \"test44.txt\", \"test45.txt\", \"test46.txt\", \"test47.txt\", \"test48.txt\", \"test49.txt\", \"test50.txt\", \"test51.txt\", \"test52.txt\", \"test53.txt\", \"test54.txt\", \"test55.txt\", \"test56.txt\", \"test57.txt\", \"test58.txt\", \"test59.txt\", \"test60.txt\", \"test61.txt\", \"test62.txt\", \"test63.txt\", \"test64.txt\", \"test65.txt\", \"test66.txt\", \"test67.txt\", \"test68.txt\", \"test69.txt\", \"test70.txt\", \"test71.txt\", \"test72.txt\", \"test73.txt\", \"test74.txt\", \"test75.txt\", \"test76.txt\", \"test77.txt\", \"test78.txt\", \"test79.txt\", \"test80.txt\", \"test81.txt\", \"test82.txt\", \"test83.txt\", \"test84.txt\", \"test85.txt\", \"test86.txt\", \"test87.txt\", \"test88.txt\", \"test89.txt\", \"test90.txt\", \"test91.txt\", \"test92.txt\", \"test93.txt\", \"test94.txt\", \"test95.txt\", \"test96.txt\", \"test97.txt\", \"test98.txt\", "
     ]
    }
   ],
   "source": [
    "for i in range(1, 99):\n",
    "    print(f'\"test{i}.txt\"', end = ', ')"
   ]
  },
  {
   "cell_type": "code",
   "execution_count": null,
   "id": "4528b26d-6b05-4c23-b4fc-d84a20b4cda3",
   "metadata": {},
   "outputs": [],
   "source": []
  }
 ],
 "metadata": {
  "kernelspec": {
   "display_name": "Python 3 (ipykernel)",
   "language": "python",
   "name": "python3"
  },
  "language_info": {
   "codemirror_mode": {
    "name": "ipython",
    "version": 3
   },
   "file_extension": ".py",
   "mimetype": "text/x-python",
   "name": "python",
   "nbconvert_exporter": "python",
   "pygments_lexer": "ipython3",
   "version": "3.11.4"
  }
 },
 "nbformat": 4,
 "nbformat_minor": 5
}
